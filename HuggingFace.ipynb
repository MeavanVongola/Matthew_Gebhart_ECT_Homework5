{
  "nbformat": 4,
  "nbformat_minor": 0,
  "metadata": {
    "colab": {
      "name": "HuggingFace.ipynb",
      "provenance": [],
      "collapsed_sections": []
    },
    "kernelspec": {
      "name": "python3",
      "display_name": "Python 3"
    },
    "language_info": {
      "name": "python"
    }
  },
  "cells": [
    {
      "cell_type": "markdown",
      "source": [
        "# **Using Gradio and HuggingFace to deploy AI models with API**\n",
        "Based on: https://gradio.app/using_hugging_face_integrations/ and other sources"
      ],
      "metadata": {
        "id": "onad-7T66V74"
      }
    },
    {
      "cell_type": "markdown",
      "source": [
        "### **1. Running Model Using Hugging Face Inference API.** \n",
        "Using this method provides a very fast result. However during the first run it might take some time."
      ],
      "metadata": {
        "id": "K3eBPw3L6oAP"
      }
    },
    {
      "cell_type": "code",
      "source": [
        "# Install the dependency, i.e. gradio library once\n",
        "!pip install gradio\n",
        "\n",
        "# It is possible to download wthout any issues almost any model with one line of code. Choose any model, get its link, and add before it \"huggingface/\".\n",
        "# import gradio and define it as a variable name\n",
        "import gradio as gr\n",
        "# load interface related to gpt2 and launch it.\n",
        "gr.Interface.load(\"huggingface/gpt2\").launch()"
      ],
      "metadata": {
        "id": "4bDNkG-i6VDW"
      },
      "execution_count": null,
      "outputs": []
    },
    {
      "cell_type": "markdown",
      "source": [
        "It is also possible to add or change the UI elements easily by using Gradio."
      ],
      "metadata": {
        "id": "bOD5clSJ6_UG"
      }
    },
    {
      "cell_type": "code",
      "source": [
        "import gradio as gr\n",
        "gr.Interface.load(\n",
        "  # take the model\n",
        "  \"huggingface/distilgpt2\",\n",
        "  # add label to input element \n",
        "  inputs=[gr.inputs.Textbox(label=\"Please insert your text here\")],\n",
        "  # add examples, which can be used to test the model \n",
        "  examples=[\"Ohio university was established\"],\n",
        "  # add theme, i.e. template or style of the page\n",
        "  theme=\"grass\",\n",
        "  allow_flagging=\"never\"\n",
        "  ).launch()"
      ],
      "metadata": {
        "id": "Migbnf2L2-We"
      },
      "execution_count": null,
      "outputs": []
    },
    {
      "cell_type": "markdown",
      "source": [
        "### **2. Deploying AI model based on others demos available on \"Spaces\"**"
      ],
      "metadata": {
        "id": "BDGWNNbM7cEH"
      }
    },
    {
      "cell_type": "code",
      "source": [
        "import gradio as gr\n",
        "gr.Interface.load(\"spaces/eugenesiow/remove-bg\").launch()"
      ],
      "metadata": {
        "id": "k5hq8JcSTQ6y"
      },
      "execution_count": null,
      "outputs": []
    }
  ]
}